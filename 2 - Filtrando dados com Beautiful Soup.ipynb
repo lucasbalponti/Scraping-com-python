{
 "cells": [
  {
   "cell_type": "code",
   "execution_count": 105,
   "metadata": {},
   "outputs": [],
   "source": [
    "from bs4 import BeautifulSoup\n",
    "import pandas as pd\n",
    "from IPython.core.display import HTML\n",
    "from IPython import display"
   ]
  },
  {
   "cell_type": "code",
   "execution_count": 3,
   "metadata": {},
   "outputs": [],
   "source": [
    "contents = open('html-pos-JS.html', 'r', encoding='utf-8').read()\n",
    "soup = BeautifulSoup(contents, 'html.parser')"
   ]
  },
  {
   "cell_type": "code",
   "execution_count": 155,
   "metadata": {},
   "outputs": [],
   "source": [
    "nomes = [x.getText().strip() for x in soup.find_all(class_ = 'pd03-product-card__product-name-text')]\n",
    "precos_a_vista = [x.getText().split()[2].replace('R$','').replace('.','').replace(',','.') for x in [soup.find_all(class_ = 'pd03-product-card__price-main')[i*2] for i in range(int(len(soup.find_all(class_ = 'pd03-product-card__price-main'))/2))]]\n",
    "spec_intermediaria = [x.getText().split('\\n\\n') for x in soup.find_all(class_ = 'pd03-product-card__spec')]\n",
    "spec_1 = [x[1].strip() for x in spec_intermediaria]\n",
    "spec_2 = [x[2].strip() for x in spec_intermediaria]\n",
    "spec_3 = [x[3].strip() for x in spec_intermediaria]\n",
    "imagens_url = [x.img['data-mobile-src'] for x in soup.find_all(class_ = 'pd03-product-card__product-image-link')]\n",
    "imagens = [\"<img src='\" + str(x) + \"'height='150'>\" for x in imagens_url]"
   ]
  },
  {
   "cell_type": "code",
   "execution_count": 156,
   "metadata": {},
   "outputs": [],
   "source": [
    "base_produtos = pd.DataFrame({\n",
    "    'Imagem': imagens,\n",
    "    'Nomes': nomes,\n",
    "    'Preço à vista (R$)': precos_a_vista,\n",
    "    'Especificação 1': spec_1,\n",
    "    'Especificação 2': spec_2,\n",
    "    'Especificação 3': spec_3\n",
    "    })"
   ]
  },
  {
   "cell_type": "code",
   "execution_count": 157,
   "metadata": {},
   "outputs": [
    {
     "data": {
      "text/html": [
       "<table border=\"1\" class=\"dataframe\">\n",
       "  <thead>\n",
       "    <tr style=\"text-align: right;\">\n",
       "      <th></th>\n",
       "      <th>Imagem</th>\n",
       "      <th>Nomes</th>\n",
       "      <th>Preço à vista (R$)</th>\n",
       "      <th>Especificação 1</th>\n",
       "      <th>Especificação 2</th>\n",
       "      <th>Especificação 3</th>\n",
       "    </tr>\n",
       "  </thead>\n",
       "  <tbody>\n",
       "    <tr>\n",
       "      <th>0</th>\n",
       "      <td><img src='//images.samsung.com/is/image/samsung/p6pim/br/sm-m546bdbhzto/gallery/br-galaxy-m54-5g-sm-m546-sm-m546bdbhzto-thumb-536057173?$344_344_PNG$'height='150'></td>\n",
       "      <td>Galaxy M54 5G</td>\n",
       "      <td>2969.10</td>\n",
       "      <td>Display de 6,7\" FHD+ 120Hz</td>\n",
       "      <td>Câmera de 108MP com OIS</td>\n",
       "      <td>Bateria de 6.000mAh (Padrão)</td>\n",
       "    </tr>\n",
       "    <tr>\n",
       "      <th>1</th>\n",
       "      <td><img src='//images.samsung.com/is/image/samsung/p6pim/br/sm-m146bdbvzto/gallery/br-galaxy-m14-5g-sm-m146-sm-m146bdbvzto-thumb-536057290?$344_344_PNG$'height='150'></td>\n",
       "      <td>Galaxy M14 5G</td>\n",
       "      <td>1709.10</td>\n",
       "      <td>Display de 6,6\"</td>\n",
       "      <td>Bateria de 6.000mAh (padrão)</td>\n",
       "      <td>50MP Câmera</td>\n",
       "    </tr>\n",
       "    <tr>\n",
       "      <th>2</th>\n",
       "      <td><img src='//images.samsung.com/is/image/samsung/p6pim/br/sm-a145mzkgzto/gallery/br-galaxy-a14-sm-a145-sm-a145mzkgzto-thumb-535709864?$344_344_PNG$'height='150'></td>\n",
       "      <td>Galaxy A14</td>\n",
       "      <td>1349.10</td>\n",
       "      <td>Display de 6,6”</td>\n",
       "      <td>Câmera de 50 MP</td>\n",
       "      <td>Processador octa-core</td>\n",
       "    </tr>\n",
       "    <tr>\n",
       "      <th>3</th>\n",
       "      <td><img src='//images.samsung.com/is/image/samsung/p6pim/br/sm-a546elgdzto/gallery/br-galaxy-a54-5g-sm-a546-sm-a546elgdzto-thumb-535806789?$344_344_PNG$'height='150'></td>\n",
       "      <td>Galaxy A54 5G</td>\n",
       "      <td>2609.10</td>\n",
       "      <td>Design Absurdo</td>\n",
       "      <td>Vídeos Absurdos</td>\n",
       "      <td>Câmera OIS</td>\n",
       "    </tr>\n",
       "    <tr>\n",
       "      <th>4</th>\n",
       "      <td><img src='//images.samsung.com/is/image/samsung/p6pim/br/sm-a346mlgazto/gallery/br-galaxy-a34-5g-sm-a346-sm-a346mlgazto-thumb-535811050?$344_344_PNG$'height='150'></td>\n",
       "      <td>Galaxy A34 5G</td>\n",
       "      <td>2339.10</td>\n",
       "      <td>Tela infinita 6.6\"</td>\n",
       "      <td>Design Absurdo</td>\n",
       "      <td>Câmera OIS</td>\n",
       "    </tr>\n",
       "    <tr>\n",
       "      <th>5</th>\n",
       "      <td><img src='//images.samsung.com/is/image/samsung/p6pim/br/sm-a047mzkgzto/gallery/br-galaxy-a04s-a047-sm-a047mzkgzto-thumb-535270820?$344_344_PNG$'height='150'></td>\n",
       "      <td>Galaxy A04s</td>\n",
       "      <td>1079.10</td>\n",
       "      <td>Tela Infinity-V de 6,5”</td>\n",
       "      <td>Câmera de 50MP</td>\n",
       "      <td>Bateria de 5.000mAh</td>\n",
       "    </tr>\n",
       "    <tr>\n",
       "      <th>6</th>\n",
       "      <td><img src='//images.samsung.com/is/image/samsung/p6pim/br/f-s23pt-lsp3b/gallery/br-kit__-galaxy-s23-ultra-5g-black-1tb-with-the-freestyle-f-s23pt-lsp3b-thumb-535980429?$344_344_PNG$'height='150'></td>\n",
       "      <td>Combo Galaxy S23 Ultra 5G Preto 1TB + The Freestyle</td>\n",
       "      <td>11249.10</td>\n",
       "      <td>Fotos extraordinárias a noite, que merecem ser compartilhadas</td>\n",
       "      <td>Experiência de foto e games ultrarrápidas</td>\n",
       "      <td>Projetado para você e para o planeta</td>\n",
       "    </tr>\n",
       "    <tr>\n",
       "      <th>7</th>\n",
       "      <td><img src='//images.samsung.com/is/image/samsung/p6pim/br/f-s23gf-lsp3b/gallery/br-kit__-galaxy-s23-ultra-5g-graphite-1tb-with-the-freestyle-f-s23gf-lsp3b-thumb-535980204?$344_344_PNG$'height='150'></td>\n",
       "      <td>Combo Galaxy S23 Ultra 5G Grafite 1TB + The Freestyle</td>\n",
       "      <td>11249.10</td>\n",
       "      <td>Fotos extraordinárias a noite, que merecem ser compartilhadas</td>\n",
       "      <td>Experiência de foto e games ultrarrápidas</td>\n",
       "      <td>Projetado para você e para o planeta</td>\n",
       "    </tr>\n",
       "    <tr>\n",
       "      <th>8</th>\n",
       "      <td><img src='//images.samsung.com/is/image/samsung/p6pim/br/f-s23vd-lsp3b/gallery/br-kit__-galaxy-s23-ultra-5g-green-1tb-with-the-freestyle-f-s23vd-lsp3b-thumb-535980499?$344_344_PNG$'height='150'></td>\n",
       "      <td>Combo Galaxy S23 Ultra 5G Verde 1TB + The Freestyle</td>\n",
       "      <td>11249.10</td>\n",
       "      <td>Fotos extraordinárias a noite, que merecem ser compartilhadas</td>\n",
       "      <td>Experiência de foto e games ultrarrápidas</td>\n",
       "      <td>Projetado para você e para o planeta</td>\n",
       "    </tr>\n",
       "    <tr>\n",
       "      <th>9</th>\n",
       "      <td><img src='//images.samsung.com/is/image/samsung/p6pim/br/sm-a146mzkgzto/gallery/br-galaxy-a14-5g-sm-a146-sm-a146mzkgzto-thumb-535330557?$344_344_PNG$'height='150'></td>\n",
       "      <td>Galaxy A14 5G</td>\n",
       "      <td>1529.10</td>\n",
       "      <td>6.6\" Tela</td>\n",
       "      <td>50MP Câmera</td>\n",
       "      <td>Octa core processador</td>\n",
       "    </tr>\n",
       "    <tr>\n",
       "      <th>10</th>\n",
       "      <td><img src='//images.samsung.com/is/image/samsung/p6pim/br/sm-a236mzkgzto/gallery/br-galaxy-a23-5g-sm-a236-sm-a236mzkgzto-thumb-534815567?$344_344_PNG$'height='150'></td>\n",
       "      <td>Galaxy A23 5G</td>\n",
       "      <td>1799.10</td>\n",
       "      <td>5G</td>\n",
       "      <td>Display FHD+ Suave de 120 Hz</td>\n",
       "      <td>Câmera Quádrupla de 50 MP</td>\n",
       "    </tr>\n",
       "  </tbody>\n",
       "</table>"
      ],
      "text/plain": [
       "<IPython.core.display.HTML object>"
      ]
     },
     "metadata": {},
     "output_type": "display_data"
    }
   ],
   "source": [
    "display.display(HTML(base_produtos.to_html(escape=False)))"
   ]
  }
 ],
 "metadata": {
  "kernelspec": {
   "display_name": "Python 3",
   "language": "python",
   "name": "python3"
  },
  "language_info": {
   "codemirror_mode": {
    "name": "ipython",
    "version": 3
   },
   "file_extension": ".py",
   "mimetype": "text/x-python",
   "name": "python",
   "nbconvert_exporter": "python",
   "pygments_lexer": "ipython3",
   "version": "3.11.0"
  },
  "orig_nbformat": 4
 },
 "nbformat": 4,
 "nbformat_minor": 2
}

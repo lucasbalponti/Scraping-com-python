{
 "cells": [
  {
   "attachments": {},
   "cell_type": "markdown",
   "metadata": {},
   "source": [
    "<h1>Conceito</h1>\n",
    "\n",
    "*Web scraping* é uma forma de mineração que permite a extração de dados de sites da web convertendo-os em informação estruturada para posterior análise.\n",
    "\n",
    "No contexto do python, existem duas maneiras principais de realizar o web scraping:\n",
    "- Através de requisições\n",
    "- Simulando o comportamento de um web-browser\n",
    "\n",
    "Enquanto o web scraping através de **requisições** é **mais rápido** e **normalmente tem melhor desempenho**, ele não consegue acessar conteúdos gerados via JavaScript e outros; esse método acessa apenas o HTML puro da página, entregue quando se realiza uma requisição get.\n",
    "\n",
    "Já quando se simula o comportamento de um web-browser, **é possível extrair esses dados das páginas**. Porém, a **aplicação pode ser mais demorada e ter desempenho mais lento**."
   ]
  },
  {
   "attachments": {},
   "cell_type": "markdown",
   "metadata": {},
   "source": [
    "<h1>Aplicação</h1>"
   ]
  },
  {
   "cell_type": "code",
   "execution_count": 1,
   "metadata": {},
   "outputs": [],
   "source": [
    "# Importando as bibliotecas necessárias\n",
    "import requests\n",
    "from bs4 import BeautifulSoup\n",
    "import re\n",
    "from selenium import webdriver\n",
    "from selenium.webdriver.chrome.service import Service\n",
    "from selenium.webdriver.common.by import By\n",
    "import time"
   ]
  },
  {
   "cell_type": "code",
   "execution_count": 2,
   "metadata": {},
   "outputs": [],
   "source": [
    "# Definindo uma url qualquer\n",
    "url = r'https://www.samsung.com/br/smartphones/galaxy-s/?galaxy-z+galaxy-a+galaxy-m'"
   ]
  },
  {
   "attachments": {},
   "cell_type": "markdown",
   "metadata": {},
   "source": [
    "<h3>Requests</h3>"
   ]
  },
  {
   "cell_type": "code",
   "execution_count": 3,
   "metadata": {},
   "outputs": [],
   "source": [
    "# Utilizando um header para que o site não bloqueie o acesso\n",
    "headers = {\"User-Agent\": \"Mozilla/5.0 (Windows NT 10.0; Win64; x64) AppleWebKit/537.36 (KHTML, like Gecko) Chrome/112.0.0.0 Safari/537.36\"}\n",
    "\n",
    "# Lendo a url\n",
    "response = requests.get(url, headers=headers)\n",
    "\n",
    "# Atribuindo o conteúdo da url à uma variável, transformando em string e tratando sua formatação\n",
    "html = response.content.decode('utf-8').replace('\\t','').replace('\\n','').replace('\\r','').split(' ')\n",
    "html = [x for x in html if x!='']\n",
    "html = ' '.join(html).replace('> <', '><')"
   ]
  },
  {
   "cell_type": "code",
   "execution_count": 4,
   "metadata": {},
   "outputs": [],
   "source": [
    "# Criando um objeto beautiful soup com a saída html\n",
    "soup = BeautifulSoup(html, 'html.parser')\n",
    "\n",
    "# Salvando em um arquivo html\n",
    "f = open('html-pre-JS.html', 'w', encoding='utf-8')\n",
    "f.write(soup.prettify())\n",
    "f.close()"
   ]
  },
  {
   "attachments": {},
   "cell_type": "markdown",
   "metadata": {},
   "source": [
    "<h3>Simulando um web-browser</h3>"
   ]
  },
  {
   "cell_type": "code",
   "execution_count": 5,
   "metadata": {},
   "outputs": [
    {
     "name": "stderr",
     "output_type": "stream",
     "text": [
      "C:\\Users\\lucas\\AppData\\Local\\Temp\\ipykernel_3152\\3324625285.py:2: DeprecationWarning: executable_path has been deprecated, please pass in a Service object\n",
      "  driver = webdriver.Chrome(r'D:\\Program Files\\Chrome Driver\\chromedriver.exe')\n"
     ]
    }
   ],
   "source": [
    "# Utilizando selenium para carregar os JS da página\n",
    "driver = webdriver.Chrome(r'D:\\Program Files\\Chrome Driver\\chromedriver.exe')\n",
    "driver.get(url)\n",
    "driver.execute_script(\"window.scrollTo(0, document.body.scrollHeight);var lenOfPage=document.body.scrollHeight;return lenOfPage;\")\n",
    "time.sleep(10)\n",
    "elem = driver.execute_script(\"return document.documentElement.outerHTML;\")\n",
    "driver.quit()"
   ]
  },
  {
   "cell_type": "code",
   "execution_count": null,
   "metadata": {},
   "outputs": [],
   "source": [
    "# Atribuindo o conteúdo da url à uma variável, transformando em string e tratando sua formatação\n",
    "elem = elem.replace('\\t','').replace('\\n','').replace('\\r','').split(' ')\n",
    "elem = [x for x in elem if x!='']\n",
    "elem = ' '.join(elem).replace('> <', '><')\n",
    "\n",
    "# Criando objeto beatiful soup com a saída\n",
    "soup2 = BeautifulSoup(elem, 'html.parser')\n",
    "\n",
    "# Salvando em um arquivo html\n",
    "f2 = open('html-pos-JS.html', 'w', encoding='utf-8')\n",
    "f2.write(soup2.prettify())\n",
    "f2.close()"
   ]
  }
 ],
 "metadata": {
  "kernelspec": {
   "display_name": "Python 3",
   "language": "python",
   "name": "python3"
  },
  "language_info": {
   "codemirror_mode": {
    "name": "ipython",
    "version": 3
   },
   "file_extension": ".py",
   "mimetype": "text/x-python",
   "name": "python",
   "nbconvert_exporter": "python",
   "pygments_lexer": "ipython3",
   "version": "3.11.0"
  },
  "orig_nbformat": 4
 },
 "nbformat": 4,
 "nbformat_minor": 2
}
